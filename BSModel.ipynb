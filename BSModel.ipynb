{
 "cells": [
  {
   "cell_type": "code",
   "execution_count": 4,
   "metadata": {},
   "outputs": [],
   "source": [
    "import numpy as np\n",
    "import numpy.random as npr\n",
    "from scipy.stats import norm\n",
    "from math import log, sqrt, pi, exp\n",
    "import pandas as pd"
   ]
  },
  {
   "cell_type": "markdown",
   "metadata": {},
   "source": [
    "# TASK 2"
   ]
  },
  {
   "cell_type": "code",
   "execution_count": 5,
   "metadata": {},
   "outputs": [],
   "source": [
    "def d11(S,K,T,r,sigma):\n",
    "    return(log(S**5/K)+(5*r+10*sigma**2+25*sigma**2/2.)*T)/(sigma*sqrt(T))\n",
    "\n",
    "def d21(S,K,T,r,sigma):\n",
    "    return(log(S**5/K)+(5*r+10*sigma**2-25*sigma**2/2.)*T)/(sigma*sqrt(T))\n",
    "\n",
    "def bs_call1(S,K,T,r,sigma):\n",
    "    price = S**5*norm.cdf(d11(S,K,T,r,sigma))-K*np.exp(-r*T)*norm.cdf(d21(S,K,T,r,sigma))\n",
    "    return price"
   ]
  },
  {
   "cell_type": "code",
   "execution_count": 6,
   "metadata": {},
   "outputs": [
    {
     "data": {
      "text/plain": [
       "31.019801326693244"
      ]
     },
     "execution_count": 6,
     "metadata": {},
     "output_type": "execute_result"
    }
   ],
   "source": [
    "bs_call1(2,1,1,0.02,0.2)"
   ]
  },
  {
   "cell_type": "markdown",
   "metadata": {},
   "source": [
    "# TASK 3"
   ]
  },
  {
   "cell_type": "markdown",
   "metadata": {},
   "source": [
    "### Let's get the price of the 2-year call and put option on BRKa, risk-free rate is 0.045 (30 year USA bond yield https://ru.investing.com/rates-bonds/u.s.-30-year-bond-yield)\n",
    "\n",
    "### Start date is 11/29/2023"
   ]
  },
  {
   "cell_type": "code",
   "execution_count": 211,
   "metadata": {},
   "outputs": [],
   "source": [
    "r = 0.045\n",
    "T = 1"
   ]
  },
  {
   "cell_type": "code",
   "execution_count": 199,
   "metadata": {},
   "outputs": [
    {
     "data": {
      "text/html": [
       "<div>\n",
       "<style scoped>\n",
       "    .dataframe tbody tr th:only-of-type {\n",
       "        vertical-align: middle;\n",
       "    }\n",
       "\n",
       "    .dataframe tbody tr th {\n",
       "        vertical-align: top;\n",
       "    }\n",
       "\n",
       "    .dataframe thead th {\n",
       "        text-align: right;\n",
       "    }\n",
       "</style>\n",
       "<table border=\"1\" class=\"dataframe\">\n",
       "  <thead>\n",
       "    <tr style=\"text-align: right;\">\n",
       "      <th></th>\n",
       "      <th>Date</th>\n",
       "      <th>Price</th>\n",
       "      <th>Open</th>\n",
       "      <th>High</th>\n",
       "      <th>Low</th>\n",
       "      <th>Vol.</th>\n",
       "      <th>Change %</th>\n",
       "    </tr>\n",
       "  </thead>\n",
       "  <tbody>\n",
       "    <tr>\n",
       "      <th>0</th>\n",
       "      <td>11/29/2023</td>\n",
       "      <td>547,673</td>\n",
       "      <td>548,486</td>\n",
       "      <td>548,750</td>\n",
       "      <td>545,250</td>\n",
       "      <td>6.46K</td>\n",
       "      <td>0.15%</td>\n",
       "    </tr>\n",
       "    <tr>\n",
       "      <th>1</th>\n",
       "      <td>11/28/2023</td>\n",
       "      <td>546,869</td>\n",
       "      <td>547,930</td>\n",
       "      <td>549,189</td>\n",
       "      <td>545,882</td>\n",
       "      <td>6.93K</td>\n",
       "      <td>-0.11%</td>\n",
       "    </tr>\n",
       "    <tr>\n",
       "      <th>2</th>\n",
       "      <td>11/27/2023</td>\n",
       "      <td>547,445</td>\n",
       "      <td>549,505</td>\n",
       "      <td>553,259</td>\n",
       "      <td>545,425</td>\n",
       "      <td>9.91K</td>\n",
       "      <td>-0.37%</td>\n",
       "    </tr>\n",
       "    <tr>\n",
       "      <th>3</th>\n",
       "      <td>11/24/2023</td>\n",
       "      <td>549,500</td>\n",
       "      <td>549,943</td>\n",
       "      <td>550,995</td>\n",
       "      <td>547,900</td>\n",
       "      <td>7.71K</td>\n",
       "      <td>0.00%</td>\n",
       "    </tr>\n",
       "    <tr>\n",
       "      <th>4</th>\n",
       "      <td>11/22/2023</td>\n",
       "      <td>549,520</td>\n",
       "      <td>549,225</td>\n",
       "      <td>550,843</td>\n",
       "      <td>546,403</td>\n",
       "      <td>7.27K</td>\n",
       "      <td>0.35%</td>\n",
       "    </tr>\n",
       "    <tr>\n",
       "      <th>...</th>\n",
       "      <td>...</td>\n",
       "      <td>...</td>\n",
       "      <td>...</td>\n",
       "      <td>...</td>\n",
       "      <td>...</td>\n",
       "      <td>...</td>\n",
       "      <td>...</td>\n",
       "    </tr>\n",
       "    <tr>\n",
       "      <th>3496</th>\n",
       "      <td>01/08/2010</td>\n",
       "      <td>100,300</td>\n",
       "      <td>99,900</td>\n",
       "      <td>100,300</td>\n",
       "      <td>99,700</td>\n",
       "      <td>0.50K</td>\n",
       "      <td>0.30%</td>\n",
       "    </tr>\n",
       "    <tr>\n",
       "      <th>3497</th>\n",
       "      <td>01/07/2010</td>\n",
       "      <td>100,000</td>\n",
       "      <td>99,594</td>\n",
       "      <td>100,000</td>\n",
       "      <td>99,594</td>\n",
       "      <td>0.57K</td>\n",
       "      <td>0.15%</td>\n",
       "    </tr>\n",
       "    <tr>\n",
       "      <th>3498</th>\n",
       "      <td>01/06/2010</td>\n",
       "      <td>99,850</td>\n",
       "      <td>100,000</td>\n",
       "      <td>100,000</td>\n",
       "      <td>99,500</td>\n",
       "      <td>0.58K</td>\n",
       "      <td>0.14%</td>\n",
       "    </tr>\n",
       "    <tr>\n",
       "      <th>3499</th>\n",
       "      <td>01/05/2010</td>\n",
       "      <td>99,710</td>\n",
       "      <td>99,790</td>\n",
       "      <td>100,001</td>\n",
       "      <td>99,550</td>\n",
       "      <td>1.19K</td>\n",
       "      <td>0.11%</td>\n",
       "    </tr>\n",
       "    <tr>\n",
       "      <th>3500</th>\n",
       "      <td>01/04/2010</td>\n",
       "      <td>99,600</td>\n",
       "      <td>99,350</td>\n",
       "      <td>99,910</td>\n",
       "      <td>99,201</td>\n",
       "      <td>1.34K</td>\n",
       "      <td>0.40%</td>\n",
       "    </tr>\n",
       "  </tbody>\n",
       "</table>\n",
       "<p>3501 rows × 7 columns</p>\n",
       "</div>"
      ],
      "text/plain": [
       "            Date    Price     Open     High      Low   Vol. Change %\n",
       "0     11/29/2023  547,673  548,486  548,750  545,250  6.46K    0.15%\n",
       "1     11/28/2023  546,869  547,930  549,189  545,882  6.93K   -0.11%\n",
       "2     11/27/2023  547,445  549,505  553,259  545,425  9.91K   -0.37%\n",
       "3     11/24/2023  549,500  549,943  550,995  547,900  7.71K    0.00%\n",
       "4     11/22/2023  549,520  549,225  550,843  546,403  7.27K    0.35%\n",
       "...          ...      ...      ...      ...      ...    ...      ...\n",
       "3496  01/08/2010  100,300   99,900  100,300   99,700  0.50K    0.30%\n",
       "3497  01/07/2010  100,000   99,594  100,000   99,594  0.57K    0.15%\n",
       "3498  01/06/2010   99,850  100,000  100,000   99,500  0.58K    0.14%\n",
       "3499  01/05/2010   99,710   99,790  100,001   99,550  1.19K    0.11%\n",
       "3500  01/04/2010   99,600   99,350   99,910   99,201  1.34K    0.40%\n",
       "\n",
       "[3501 rows x 7 columns]"
      ]
     },
     "execution_count": 199,
     "metadata": {},
     "output_type": "execute_result"
    }
   ],
   "source": [
    "df = pd.read_csv('BRKa.csv')\n",
    "df"
   ]
  },
  {
   "cell_type": "code",
   "execution_count": 200,
   "metadata": {
    "scrolled": true
   },
   "outputs": [
    {
     "data": {
      "text/html": [
       "<div>\n",
       "<style scoped>\n",
       "    .dataframe tbody tr th:only-of-type {\n",
       "        vertical-align: middle;\n",
       "    }\n",
       "\n",
       "    .dataframe tbody tr th {\n",
       "        vertical-align: top;\n",
       "    }\n",
       "\n",
       "    .dataframe thead th {\n",
       "        text-align: right;\n",
       "    }\n",
       "</style>\n",
       "<table border=\"1\" class=\"dataframe\">\n",
       "  <thead>\n",
       "    <tr style=\"text-align: right;\">\n",
       "      <th></th>\n",
       "      <th>Date</th>\n",
       "      <th>Price</th>\n",
       "      <th>Open</th>\n",
       "      <th>High</th>\n",
       "      <th>Low</th>\n",
       "      <th>Vol.</th>\n",
       "      <th>Change %</th>\n",
       "    </tr>\n",
       "  </thead>\n",
       "  <tbody>\n",
       "    <tr>\n",
       "      <th>count</th>\n",
       "      <td>3501</td>\n",
       "      <td>3501</td>\n",
       "      <td>3501</td>\n",
       "      <td>3501</td>\n",
       "      <td>3501</td>\n",
       "      <td>3501</td>\n",
       "      <td>3501</td>\n",
       "    </tr>\n",
       "    <tr>\n",
       "      <th>unique</th>\n",
       "      <td>3501</td>\n",
       "      <td>3267</td>\n",
       "      <td>3124</td>\n",
       "      <td>3300</td>\n",
       "      <td>3272</td>\n",
       "      <td>525</td>\n",
       "      <td>585</td>\n",
       "    </tr>\n",
       "    <tr>\n",
       "      <th>top</th>\n",
       "      <td>11/29/2023</td>\n",
       "      <td>119,700</td>\n",
       "      <td>300,000</td>\n",
       "      <td>315,000</td>\n",
       "      <td>295,000</td>\n",
       "      <td>0.28K</td>\n",
       "      <td>0.00%</td>\n",
       "    </tr>\n",
       "    <tr>\n",
       "      <th>freq</th>\n",
       "      <td>1</td>\n",
       "      <td>5</td>\n",
       "      <td>9</td>\n",
       "      <td>5</td>\n",
       "      <td>6</td>\n",
       "      <td>77</td>\n",
       "      <td>27</td>\n",
       "    </tr>\n",
       "  </tbody>\n",
       "</table>\n",
       "</div>"
      ],
      "text/plain": [
       "              Date    Price     Open     High      Low   Vol. Change %\n",
       "count         3501     3501     3501     3501     3501   3501     3501\n",
       "unique        3501     3267     3124     3300     3272    525      585\n",
       "top     11/29/2023  119,700  300,000  315,000  295,000  0.28K    0.00%\n",
       "freq             1        5        9        5        6     77       27"
      ]
     },
     "execution_count": 200,
     "metadata": {},
     "output_type": "execute_result"
    }
   ],
   "source": [
    "df.describe()"
   ]
  },
  {
   "cell_type": "code",
   "execution_count": 201,
   "metadata": {},
   "outputs": [
    {
     "data": {
      "text/html": [
       "<div>\n",
       "<style scoped>\n",
       "    .dataframe tbody tr th:only-of-type {\n",
       "        vertical-align: middle;\n",
       "    }\n",
       "\n",
       "    .dataframe tbody tr th {\n",
       "        vertical-align: top;\n",
       "    }\n",
       "\n",
       "    .dataframe thead th {\n",
       "        text-align: right;\n",
       "    }\n",
       "</style>\n",
       "<table border=\"1\" class=\"dataframe\">\n",
       "  <thead>\n",
       "    <tr style=\"text-align: right;\">\n",
       "      <th></th>\n",
       "      <th>Date</th>\n",
       "      <th>Price</th>\n",
       "      <th>Open</th>\n",
       "      <th>High</th>\n",
       "      <th>Low</th>\n",
       "      <th>Vol.</th>\n",
       "      <th>Change %</th>\n",
       "    </tr>\n",
       "  </thead>\n",
       "  <tbody>\n",
       "    <tr>\n",
       "      <th>0</th>\n",
       "      <td>11/29/2023</td>\n",
       "      <td>547,673</td>\n",
       "      <td>548,486</td>\n",
       "      <td>548,750</td>\n",
       "      <td>545,250</td>\n",
       "      <td>6.46K</td>\n",
       "      <td>0.15%</td>\n",
       "    </tr>\n",
       "    <tr>\n",
       "      <th>1</th>\n",
       "      <td>11/28/2023</td>\n",
       "      <td>546,869</td>\n",
       "      <td>547,930</td>\n",
       "      <td>549,189</td>\n",
       "      <td>545,882</td>\n",
       "      <td>6.93K</td>\n",
       "      <td>-0.11%</td>\n",
       "    </tr>\n",
       "    <tr>\n",
       "      <th>2</th>\n",
       "      <td>11/27/2023</td>\n",
       "      <td>547,445</td>\n",
       "      <td>549,505</td>\n",
       "      <td>553,259</td>\n",
       "      <td>545,425</td>\n",
       "      <td>9.91K</td>\n",
       "      <td>-0.37%</td>\n",
       "    </tr>\n",
       "    <tr>\n",
       "      <th>3</th>\n",
       "      <td>11/24/2023</td>\n",
       "      <td>549,500</td>\n",
       "      <td>549,943</td>\n",
       "      <td>550,995</td>\n",
       "      <td>547,900</td>\n",
       "      <td>7.71K</td>\n",
       "      <td>0.00%</td>\n",
       "    </tr>\n",
       "    <tr>\n",
       "      <th>4</th>\n",
       "      <td>11/22/2023</td>\n",
       "      <td>549,520</td>\n",
       "      <td>549,225</td>\n",
       "      <td>550,843</td>\n",
       "      <td>546,403</td>\n",
       "      <td>7.27K</td>\n",
       "      <td>0.35%</td>\n",
       "    </tr>\n",
       "  </tbody>\n",
       "</table>\n",
       "</div>"
      ],
      "text/plain": [
       "         Date    Price     Open     High      Low   Vol. Change %\n",
       "0  11/29/2023  547,673  548,486  548,750  545,250  6.46K    0.15%\n",
       "1  11/28/2023  546,869  547,930  549,189  545,882  6.93K   -0.11%\n",
       "2  11/27/2023  547,445  549,505  553,259  545,425  9.91K   -0.37%\n",
       "3  11/24/2023  549,500  549,943  550,995  547,900  7.71K    0.00%\n",
       "4  11/22/2023  549,520  549,225  550,843  546,403  7.27K    0.35%"
      ]
     },
     "execution_count": 201,
     "metadata": {},
     "output_type": "execute_result"
    }
   ],
   "source": [
    "df.head()"
   ]
  },
  {
   "cell_type": "code",
   "execution_count": 202,
   "metadata": {},
   "outputs": [],
   "source": [
    "df['Price'] = df['Price'].str.replace(',', '').astype('float')\n",
    "df['Change %'] = df['Change %'].str.replace('%', '').astype('float')"
   ]
  },
  {
   "cell_type": "code",
   "execution_count": 203,
   "metadata": {},
   "outputs": [
    {
     "data": {
      "text/plain": [
       "0       547673.0\n",
       "1       546869.0\n",
       "2       547445.0\n",
       "3       549500.0\n",
       "4       549520.0\n",
       "          ...   \n",
       "3496    100300.0\n",
       "3497    100000.0\n",
       "3498     99850.0\n",
       "3499     99710.0\n",
       "3500     99600.0\n",
       "Name: Price, Length: 3501, dtype: float64"
      ]
     },
     "execution_count": 203,
     "metadata": {},
     "output_type": "execute_result"
    }
   ],
   "source": [
    "df['Price']"
   ]
  },
  {
   "cell_type": "code",
   "execution_count": 204,
   "metadata": {},
   "outputs": [
    {
     "name": "stdout",
     "output_type": "stream",
     "text": [
      "0.011999139438972095\n",
      "0.19048043341384355\n"
     ]
    }
   ],
   "source": [
    "std = np.std(df['Change %']/100).astype(float)\n",
    "print(std)\n",
    "vol = std*(252)**(0.5)\n",
    "print(vol)"
   ]
  },
  {
   "cell_type": "code",
   "execution_count": 205,
   "metadata": {},
   "outputs": [],
   "source": [
    "def d1(S,K,T,r,sigma):\n",
    "    return(log(S/K)+(r+sigma**2/2.)*T)/(sigma*sqrt(T))\n",
    "\n",
    "def d2(S,K,T,r,sigma):\n",
    "    return d1(S,K,T,r,sigma)-sigma*sqrt(T)\n",
    "\n",
    "def bs_call(S,K,T,r,sigma):\n",
    "    price = S*norm.cdf(d1(S,K,T,r,sigma))-K*np.exp(-r*T)*norm.cdf(d2(S,K,T,r,sigma))\n",
    "    return price\n",
    "    \n",
    "def bs_put(S,K,T,r,sigma):\n",
    "    price = K*np.exp(-r*T)*norm.cdf(-1*d2(S,K,T,r,sigma))-S*norm.cdf(-1*d1(S,K,T,r,sigma))\n",
    "    return price  "
   ]
  },
  {
   "cell_type": "code",
   "execution_count": 206,
   "metadata": {},
   "outputs": [],
   "source": [
    "Stock = int(df['Price'][0])"
   ]
  },
  {
   "cell_type": "code",
   "execution_count": 212,
   "metadata": {
    "scrolled": true
   },
   "outputs": [
    {
     "name": "stdout",
     "output_type": "stream",
     "text": [
      "The price of call option is 53815.68\n"
     ]
    }
   ],
   "source": [
    "print('The price of call option is '+str(round(bs_call(Stock,Stock,T,r,vol),2)))"
   ]
  },
  {
   "cell_type": "code",
   "execution_count": 213,
   "metadata": {},
   "outputs": [
    {
     "name": "stdout",
     "output_type": "stream",
     "text": [
      "The price of put option is 29716.69\n"
     ]
    }
   ],
   "source": [
    "print('The price of put option is '+str(round(bs_put(Stock,Stock,T,r,vol),2)))"
   ]
  },
  {
   "cell_type": "code",
   "execution_count": null,
   "metadata": {},
   "outputs": [],
   "source": []
  }
 ],
 "metadata": {
  "kernelspec": {
   "display_name": "Python 3 (ipykernel)",
   "language": "python",
   "name": "python3"
  },
  "language_info": {
   "codemirror_mode": {
    "name": "ipython",
    "version": 3
   },
   "file_extension": ".py",
   "mimetype": "text/x-python",
   "name": "python",
   "nbconvert_exporter": "python",
   "pygments_lexer": "ipython3",
   "version": "3.11.4"
  }
 },
 "nbformat": 4,
 "nbformat_minor": 4
}
